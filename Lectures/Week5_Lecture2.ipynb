{
 "cells": [
  {
   "cell_type": "markdown",
   "metadata": {},
   "source": [
    "# Introduction to Texts Analytics"
   ]
  },
  {
   "cell_type": "markdown",
   "metadata": {},
   "source": [
    "## Text Analytics  and NLP applications\n",
    "\n",
    "### Automated grading of written homework, Grammar checkers\n",
    "### Automated teaching systems, \n",
    "### Categorizing/Classifying articles, documents, emails\n",
    "### Creating Chatbots\n",
    "### Creative writing\n",
    "### Cryptography, Steganography\n",
    "### Fraud detection\n",
    "### Inter-language translation\n",
    "### Legal document preparation\n",
    "### Monitoring social media posts\n",
    "### Reading books, articles, documentation and absorbing knowledge\n",
    "### Sentiment analysis\n",
    "### Text-to-speech engines\n",
    "### Word games\n",
    "### and many more… \t\t\n",
    "\t\t"
   ]
  },
  {
   "cell_type": "markdown",
   "metadata": {},
   "source": [
    "#  Topics we will cover\n",
    "\n",
    "### Sentiment Analysis:  Determine whether feedbacks and comments are positive, negative, or neutral and apply the infomration for customer support/Social media monitoring etc.\n",
    "\n",
    "### Text Classification:  Supervised ML method to classify text into predefined categories such as spam filtering.\n",
    "\n",
    "### Named Entity Recognition (NER): Finding import entities such as people, places, numbers from the text.\n",
    "\n",
    "\n",
    "### Topic Modeling: Identifying topics and themes in the text data.\n",
    "\n",
    "### Text Clustering: Grouping similar texts into into clusters or groups  for  document retrieval, summarization etc."
   ]
  },
  {
   "cell_type": "markdown",
   "metadata": {},
   "source": [
    "# Libraries \n",
    "### TextBlob:  for part-of-speech tagging, noun phrase extraction, sentiment analysis, classification, translation. Find more https://textblob.readthedocs.io/en/dev/\n",
    "### NLTK ( Natural Language Tool Kit) : Comprehensive Taxt Analytics API. Find more https://www.nltk.org/\n",
    "### Textatistic: To check the readability of the texts. Find more https://pypi.org/project/textatistic/\n",
    "### spaCy : More advanced text analytics.  Find more  https://spacy.io/usage"
   ]
  },
  {
   "cell_type": "markdown",
   "metadata": {},
   "source": [
    "# TextBlob\n",
    "* https://textblob.readthedocs.io/en/latest/\n",
    "* Object-oriented NLP text-processing library that is built on the NLTK and pattern NLP libraries\n",
    "* Some of the NLP tasks TextBlob can perform include:\n",
    "    * Tokenization—splitting text into pieces called tokens, which are meaningful units, such as words and numbers\n",
    "    * Parts-of-speech (POS) tagging—identifying each word’s part of speech, such as noun, verb, adjective, etc.\n",
    "    * Noun phrase extraction—locating groups of words that represent nouns, such as “red brick factory.”\n",
    "        * The phrase “red brick factory” illustrates why natural language is such a difficult subject. Is a “red brick factory” a factory that makes red bricks? Is it a red factory that makes bricks of any color? Is it a factory built of red bricks that makes products of any type? In today’s music world, it could even be the name of a rock band or the name of a game on your smartphone.\n",
    "    * Sentiment analysis—determining whether text has positive, neutral or negative sentiment.\n",
    "    * Inter-language translation and language detection powered by Google Translate."
   ]
  },
  {
   "cell_type": "markdown",
   "metadata": {},
   "source": [
    "\n",
    "## Installing the TextBlob Module\n",
    "```\n",
    "conda install -c conda-forge textblob\n",
    "```\n",
    "\n",
    "* Once installation completes, execute the following command to download the NLTK corpora used by TextBlob:\n",
    ">```\n",
    "ipython -m textblob.download_corpora\n",
    "```"
   ]
  },
  {
   "cell_type": "markdown",
   "metadata": {},
   "source": [
    "# TextBlob (cont.)\n",
    "### Project Gutenberg\n",
    "* Great source of text for analysis is the free e-books at Project Gutenberg:\n",
    "> https://www.gutenberg.org\n",
    "* Over 57,000 e-books in various formats, including plain text files\n",
    "* Out of copyright in the United States\n",
    "* [Terms of Use and copyright in other countries](https://www.gutenberg.org/wiki/Gutenberg:Terms_of_Use)\n",
    "* Some examples use the plain-text e-book file for Shakespeare’s Romeo and Juliet:\n",
    "https://www.gutenberg.org/ebooks/1513\n",
    "* You’re required to copy books for programmatic access\n",
    "> https://www.gutenberg.org/wiki/Gutenberg:Information_About_Robot_Access_to_our_Pages\n",
    "* To download\n",
    "    * Right click the Plain Text UTF-8 link on a book’s web page\n",
    "    * Select **Save Link As…** (Chrome/FireFox), **Download Linked File As…** (Safari) or **Save target as** (Microsoft Edge)\n",
    "* Save Romeo and Juliet as `RomeoAndJuliet.txt` in the `ch12` examples \n",
    "* **For analysis purposes, we removed the Project Gutenberg text before \"THE TRAGEDY OF ROMEO AND JULIET\", as well as the Project Guttenberg information at the end of the file starting with: \"End of the Project Gutenberg EBook of Romeo and Juliet, by William Shakespeare\"**"
   ]
  },
  {
   "cell_type": "markdown",
   "metadata": {},
   "source": [
    "## Create a TextBlob"
   ]
  },
  {
   "cell_type": "code",
   "execution_count": 1,
   "metadata": {},
   "outputs": [],
   "source": [
    "from textblob import TextBlob"
   ]
  },
  {
   "cell_type": "code",
   "execution_count": 2,
   "metadata": {},
   "outputs": [],
   "source": [
    "text = 'Today is a beautiful day. Tomorrow looks like bad weather.'"
   ]
  },
  {
   "cell_type": "code",
   "execution_count": 3,
   "metadata": {},
   "outputs": [],
   "source": [
    "blob = TextBlob(text)"
   ]
  },
  {
   "cell_type": "code",
   "execution_count": 4,
   "metadata": {},
   "outputs": [
    {
     "data": {
      "text/plain": [
       "TextBlob(\"Today is a beautiful day. Tomorrow looks like bad weather.\")"
      ]
     },
     "execution_count": 4,
     "metadata": {},
     "output_type": "execute_result"
    }
   ],
   "source": [
    "blob"
   ]
  },
  {
   "cell_type": "markdown",
   "metadata": {},
   "source": [
    "### `TextBlob`, `Sentence`s and `Word`s Support String Methods and Comparisons \n",
    "* `Sentence`s, `Word`s and `TextBlob`s inherit from **`BaseBlob`**, which defines many common methods and properties\n",
    "* [**`BaseBlob` documentation**](https://textblob.readthedocs.io/en/dev/api_reference.html)"
   ]
  },
  {
   "cell_type": "markdown",
   "metadata": {},
   "source": [
    "## Tokenizing Text into Sentences and Words\n",
    "* Getting a list of sentences"
   ]
  },
  {
   "cell_type": "code",
   "execution_count": 5,
   "metadata": {},
   "outputs": [
    {
     "data": {
      "text/plain": [
       "[Sentence(\"Today is a beautiful day.\"),\n",
       " Sentence(\"Tomorrow looks like bad weather.\")]"
      ]
     },
     "execution_count": 5,
     "metadata": {},
     "output_type": "execute_result"
    }
   ],
   "source": [
    "blob.sentences"
   ]
  },
  {
   "cell_type": "markdown",
   "metadata": {},
   "source": [
    "* A `WordList` is a subclass of Python’s **built-in list type** with additional NLP methods. \n",
    "* Contains TextBlob `Word` objects"
   ]
  },
  {
   "cell_type": "code",
   "execution_count": 6,
   "metadata": {},
   "outputs": [
    {
     "data": {
      "text/plain": [
       "WordList(['Today', 'is', 'a', 'beautiful', 'day', 'Tomorrow', 'looks', 'like', 'bad', 'weather'])"
      ]
     },
     "execution_count": 6,
     "metadata": {},
     "output_type": "execute_result"
    }
   ],
   "source": [
    "blob.words"
   ]
  },
  {
   "cell_type": "markdown",
   "metadata": {},
   "source": [
    "## Parts-of-Speech Tagging\n",
    "\n",
    "* Evaluate words based on context to determine **parts of speech**, which can help determine meaning\n",
    "* Eight primary English parts of speech\n",
    "\t* **nouns**, **pronouns**, **verbs**, **adjectives**, **adverbs**, **prepositions**, **conjunctions** and **interjections** (words that express emotion and that are typically followed by **punctuation**, like “Yes!” or “Ha!”) \n",
    "    * Many subcategories \n",
    "* Some words have multiple meanings\n",
    "\t* E.g., “set” and “run” have **hundreds of meanings** each! "
   ]
  },
  {
   "cell_type": "code",
   "execution_count": 7,
   "metadata": {},
   "outputs": [
    {
     "data": {
      "text/plain": [
       "TextBlob(\"Today is a beautiful day. Tomorrow looks like bad weather.\")"
      ]
     },
     "execution_count": 7,
     "metadata": {},
     "output_type": "execute_result"
    }
   ],
   "source": [
    "blob"
   ]
  },
  {
   "cell_type": "code",
   "execution_count": 8,
   "metadata": {},
   "outputs": [
    {
     "data": {
      "text/plain": [
       "[('Today', 'NN'),\n",
       " ('is', 'VBZ'),\n",
       " ('a', 'DT'),\n",
       " ('beautiful', 'JJ'),\n",
       " ('day', 'NN'),\n",
       " ('Tomorrow', 'NNP'),\n",
       " ('looks', 'VBZ'),\n",
       " ('like', 'IN'),\n",
       " ('bad', 'JJ'),\n",
       " ('weather', 'NN')]"
      ]
     },
     "execution_count": 8,
     "metadata": {},
     "output_type": "execute_result"
    }
   ],
   "source": [
    "blob.tags"
   ]
  },
  {
   "cell_type": "markdown",
   "metadata": {},
   "source": [
    "## Parts-of-Speech Tagging (cont.)\n",
    "* `TextBlob` uses a `PatternTagger` to determine parts-of-speech\n",
    "* Uses [**pattern library**](https://www.clips.uantwerpen.be/pattern) POS tagging\n",
    "* Pattern's [63 parts-of-speech tags](https://www.clips.uantwerpen.be/pages/MBSP-tags`)\n",
    "* In preceding output:\n",
    "    * `NN`—a **singular noun** or **mass noun**\n",
    "    * `VBZ`—a [**third person singular present verb**](https://www.grammar.cl/Present/Verbs_Third_Person.htm)\n",
    "    * `DT`—a [**determiner**](https://en.wikipedia.org/wiki/Determiner) (the, an, that, this, my, their, etc.)\n",
    "    * `JJ`—an **adjective**\n",
    "    * `NNP`—a **proper singular noun**\n",
    "    * `IN`—a **subordinating conjunction** or **preposition**"
   ]
  },
  {
   "cell_type": "markdown",
   "metadata": {},
   "source": [
    "## Extracting Noun Phrases\n",
    "* Preparing to purchase a **water ski**\n",
    "* Might search for **“best water ski”**—**“water ski”** is a **noun phrase** \n",
    "* For best results, search engine must parse the noun phrase properly \n",
    "* Try searching for **“best water,”** **“best ski”**,  **“water ski”** and **“best water ski”** and see what you get "
   ]
  },
  {
   "cell_type": "code",
   "execution_count": null,
   "metadata": {},
   "outputs": [],
   "source": [
    "blob"
   ]
  },
  {
   "cell_type": "code",
   "execution_count": 9,
   "metadata": {},
   "outputs": [
    {
     "data": {
      "text/plain": [
       "WordList(['beautiful day', 'tomorrow', 'bad weather'])"
      ]
     },
     "execution_count": 9,
     "metadata": {},
     "output_type": "execute_result"
    }
   ],
   "source": [
    "blob.noun_phrases"
   ]
  },
  {
   "cell_type": "markdown",
   "metadata": {},
   "source": [
    "* A **`Word`** can represent a noun phrase with **multiple words**. "
   ]
  },
  {
   "cell_type": "markdown",
   "metadata": {},
   "source": [
    "## Sentiment Analysis with TextBlob’s Default Sentiment Analyzer\n",
    "* Determines whether text is **positive**, **neutral** or **negative**. \n",
    "* One of the most common and valuable NLP tasks (several later case studies do it) \n",
    "* Consider the **positive word “good”** and the **negative word “bad\"**\n",
    "    * Alone they are positive and negative, respectively, but...\n",
    "    * **The food is not good** — clearly has negative sentiment\n",
    "    * **The movie was not bad** — clearly has positive sentiment (but not as positive as **The movie was excellent!**)\n",
    "* Complex **machine-learning problem**, but libraries like TextBlob can do it for you"
   ]
  },
  {
   "cell_type": "markdown",
   "metadata": {},
   "source": [
    "### Getting the Sentiment of a TextBlob"
   ]
  },
  {
   "cell_type": "code",
   "execution_count": 11,
   "metadata": {},
   "outputs": [
    {
     "data": {
      "text/plain": [
       "TextBlob(\"Today is a beautiful day. Tomorrow looks like bad weather.\")"
      ]
     },
     "execution_count": 11,
     "metadata": {},
     "output_type": "execute_result"
    }
   ],
   "source": [
    "blob"
   ]
  },
  {
   "cell_type": "code",
   "execution_count": 10,
   "metadata": {},
   "outputs": [
    {
     "data": {
      "text/plain": [
       "Sentiment(polarity=0.07500000000000007, subjectivity=0.8333333333333333)"
      ]
     },
     "execution_count": 10,
     "metadata": {},
     "output_type": "execute_result"
    }
   ],
   "source": [
    "blob.sentiment"
   ]
  },
  {
   "cell_type": "markdown",
   "metadata": {},
   "source": [
    "* **`polarity`** is the **sentiment** — from **`-1.0` (negative)** to **`1.0` (positive)** with **`0.0`** being **neutral**. \n",
    "* **`subjectivity`** is a value from **0.0 (objective)** to **1.0 (subjective)**. "
   ]
  },
  {
   "cell_type": "markdown",
   "metadata": {},
   "source": [
    "### Getting the polarity and subjectivity from the Sentiment Object\n",
    "* **`%precision`** magic specifies the **default precision** for **standalone** `float` objects and `float` objects in **built-in types** like lists, dictionaries and tuples:"
   ]
  },
  {
   "cell_type": "code",
   "execution_count": 12,
   "metadata": {},
   "outputs": [
    {
     "data": {
      "text/plain": [
       "'%.3f'"
      ]
     },
     "execution_count": 12,
     "metadata": {},
     "output_type": "execute_result"
    }
   ],
   "source": [
    "%precision 3"
   ]
  },
  {
   "cell_type": "code",
   "execution_count": 13,
   "metadata": {},
   "outputs": [
    {
     "data": {
      "text/plain": [
       "0.075"
      ]
     },
     "execution_count": 13,
     "metadata": {},
     "output_type": "execute_result"
    }
   ],
   "source": [
    "blob.sentiment.polarity"
   ]
  },
  {
   "cell_type": "code",
   "execution_count": 14,
   "metadata": {},
   "outputs": [
    {
     "data": {
      "text/plain": [
       "0.833"
      ]
     },
     "execution_count": 14,
     "metadata": {},
     "output_type": "execute_result"
    }
   ],
   "source": [
    "blob.sentiment.subjectivity"
   ]
  },
  {
   "cell_type": "markdown",
   "metadata": {},
   "source": [
    "### Getting the Sentiment of a Sentence \n",
    "* One is **positive (`0.85`)** and one is **negative (`-0.6999999999999998`)**, which might explain why the entire `TextBlob`’s `sentiment` was close to **`0.0` (neutral)**"
   ]
  },
  {
   "cell_type": "code",
   "execution_count": 15,
   "metadata": {},
   "outputs": [
    {
     "data": {
      "text/plain": [
       "Sentiment(polarity=0.07500000000000007, subjectivity=0.8333333333333333)"
      ]
     },
     "execution_count": 15,
     "metadata": {},
     "output_type": "execute_result"
    }
   ],
   "source": [
    "blob.sentiment"
   ]
  },
  {
   "cell_type": "code",
   "execution_count": 16,
   "metadata": {},
   "outputs": [
    {
     "name": "stdout",
     "output_type": "stream",
     "text": [
      "Sentiment(polarity=0.85, subjectivity=1.0)\n",
      "Sentiment(polarity=-0.6999999999999998, subjectivity=0.6666666666666666)\n"
     ]
    }
   ],
   "source": [
    "for sentence in blob.sentences:\n",
    "    print(sentence.sentiment)"
   ]
  },
  {
   "cell_type": "markdown",
   "metadata": {},
   "source": [
    "## Language Detection and Translation\n",
    "* **Google Translate**, **Microsoft Bing Translator** and others can translate between scores of languages instantly\n",
    "* Now working on **near-real-time translation**\n",
    "    * Converse in real time with people who do not know your natural language\n",
    "* In the **IBM Watson** presentation, we'll develop a script that does **inter-language translation**"
   ]
  },
  {
   "cell_type": "code",
   "execution_count": 17,
   "metadata": {},
   "outputs": [
    {
     "data": {
      "text/plain": [
       "TextBlob(\"Today is a beautiful day. Tomorrow looks like bad weather.\")"
      ]
     },
     "execution_count": 17,
     "metadata": {},
     "output_type": "execute_result"
    }
   ],
   "source": [
    "blob"
   ]
  },
  {
   "cell_type": "markdown",
   "metadata": {},
   "source": [
    "## Inflection: Pluralization and Singularization\n",
    "* Inflections are different forms of the same words, such as singular and plural (like “person” and “people”) and different verb tenses (like “run” and “ran”)\n",
    "* When you’re calculating word frequencies, you might first want to convert all inflected words to the same form for more accurate word frequencies"
   ]
  },
  {
   "cell_type": "code",
   "execution_count": 18,
   "metadata": {},
   "outputs": [],
   "source": [
    "from textblob import Word"
   ]
  },
  {
   "cell_type": "code",
   "execution_count": 19,
   "metadata": {},
   "outputs": [],
   "source": [
    "index = Word('index')"
   ]
  },
  {
   "cell_type": "code",
   "execution_count": 20,
   "metadata": {},
   "outputs": [
    {
     "data": {
      "text/plain": [
       "'indices'"
      ]
     },
     "execution_count": 20,
     "metadata": {},
     "output_type": "execute_result"
    }
   ],
   "source": [
    "index.pluralize()"
   ]
  },
  {
   "cell_type": "code",
   "execution_count": 21,
   "metadata": {},
   "outputs": [],
   "source": [
    "cacti = Word('cacti')"
   ]
  },
  {
   "cell_type": "code",
   "execution_count": 22,
   "metadata": {},
   "outputs": [
    {
     "data": {
      "text/plain": [
       "'cactus'"
      ]
     },
     "execution_count": 22,
     "metadata": {},
     "output_type": "execute_result"
    }
   ],
   "source": [
    "cacti.singularize()"
   ]
  },
  {
   "cell_type": "markdown",
   "metadata": {},
   "source": [
    "* Pluralizing and singularizing are not as simple as adding or removing an “s” or “es” at the end of a word"
   ]
  },
  {
   "cell_type": "code",
   "execution_count": 23,
   "metadata": {},
   "outputs": [],
   "source": [
    "from textblob import TextBlob"
   ]
  },
  {
   "cell_type": "code",
   "execution_count": 24,
   "metadata": {},
   "outputs": [],
   "source": [
    "animals = TextBlob('dog cat fish bird').words"
   ]
  },
  {
   "cell_type": "code",
   "execution_count": 25,
   "metadata": {},
   "outputs": [
    {
     "data": {
      "text/plain": [
       "WordList(['dogs', 'cats', 'fish', 'birds'])"
      ]
     },
     "execution_count": 25,
     "metadata": {},
     "output_type": "execute_result"
    }
   ],
   "source": [
    "animals.pluralize()"
   ]
  },
  {
   "cell_type": "markdown",
   "metadata": {},
   "source": [
    "## Spell Checking and Correction\n",
    "* For natural language processing tasks, it’s important that the text be free of spelling errors\n",
    "* A `Word`’s **`spellcheck` method** returns a list of tuples containing **possible correct spellings** and **confidence values**\n",
    "* Assume we meant to type “they” but misspelled it as “theyr”"
   ]
  },
  {
   "cell_type": "code",
   "execution_count": 26,
   "metadata": {},
   "outputs": [],
   "source": [
    "from textblob import Word"
   ]
  },
  {
   "cell_type": "code",
   "execution_count": 27,
   "metadata": {},
   "outputs": [],
   "source": [
    "word = Word('theyr')"
   ]
  },
  {
   "cell_type": "code",
   "execution_count": 28,
   "metadata": {},
   "outputs": [
    {
     "data": {
      "text/plain": [
       "[('they', 0.571), ('their', 0.429)]"
      ]
     },
     "execution_count": 28,
     "metadata": {},
     "output_type": "execute_result"
    }
   ],
   "source": [
    "word.spellcheck()"
   ]
  },
  {
   "cell_type": "code",
   "execution_count": 29,
   "metadata": {},
   "outputs": [
    {
     "data": {
      "text/plain": [
       "'they'"
      ]
     },
     "execution_count": 29,
     "metadata": {},
     "output_type": "execute_result"
    }
   ],
   "source": [
    "word.correct()  # chooses word with the highest confidence value"
   ]
  },
  {
   "cell_type": "markdown",
   "metadata": {},
   "source": [
    "* Word with the highest confidence value might not be the correct word for the given context\n",
    "* `TextBlob`s, `Sentence`s and `Word`s all have a `correct` method that you can call to correct spelling\n",
    "* Calling `correct` on a `Word` returns the correctly spelled word that has the highest confidence value"
   ]
  },
  {
   "cell_type": "code",
   "execution_count": 30,
   "metadata": {},
   "outputs": [],
   "source": [
    "from textblob import TextBlob, Word"
   ]
  },
  {
   "cell_type": "code",
   "execution_count": 31,
   "metadata": {},
   "outputs": [],
   "source": [
    "sentence = TextBlob('Ths sentense has missplled wrds.')"
   ]
  },
  {
   "cell_type": "code",
   "execution_count": 32,
   "metadata": {},
   "outputs": [
    {
     "data": {
      "text/plain": [
       "TextBlob(\"The sentence has misspelled words.\")"
      ]
     },
     "execution_count": 32,
     "metadata": {},
     "output_type": "execute_result"
    }
   ],
   "source": [
    "sentence.correct()"
   ]
  },
  {
   "cell_type": "markdown",
   "metadata": {},
   "source": [
    "## Normalization: Stemming and Lemmatization\n",
    "* **Stemming** removes a **prefix** or **suffix** from a word leaving only a **stem**, which **may or may not be a real word**\n",
    "* **Lemmatization** is similar, but factors in the word’s **part of speech** and **meaning** and results in a **real word**\n",
    "* Both **normalize** words for analysis\n",
    "\t* Before calculating statistics on words in a body of text, you might convert all words to lowercase so that capitalized and lowercase words are not treated differently. \n",
    "* You might want to use a word’s root to represent the word’s many forms. \n",
    "\t* E.g., treat \"program\" and \"programs\" as \"program\""
   ]
  },
  {
   "cell_type": "code",
   "execution_count": 33,
   "metadata": {},
   "outputs": [],
   "source": [
    "word = Word('varieties')"
   ]
  },
  {
   "cell_type": "code",
   "execution_count": 34,
   "metadata": {},
   "outputs": [
    {
     "data": {
      "text/plain": [
       "'varieti'"
      ]
     },
     "execution_count": 34,
     "metadata": {},
     "output_type": "execute_result"
    }
   ],
   "source": [
    "word.stem()"
   ]
  },
  {
   "cell_type": "markdown",
   "metadata": {},
   "source": [
    "**NOTE: Before running this notebook, place a copy of your downloaded RomeoAndJuliet.txt file in the same folder with this notebook.**\n",
    "\n",
    "##  Word Frequencies\n",
    "* Various techniques for detecting **similarity between documents** rely on **word frequencies**\n",
    "* `TextBlob` can count word frequencies for you\n",
    "* When you read a file with `Path`’s `read_text` method, it closes the file immediately after it finishes reading the file"
   ]
  },
  {
   "cell_type": "code",
   "execution_count": 35,
   "metadata": {},
   "outputs": [],
   "source": [
    "from pathlib import Path"
   ]
  },
  {
   "cell_type": "code",
   "execution_count": 36,
   "metadata": {},
   "outputs": [],
   "source": [
    "from textblob import TextBlob"
   ]
  },
  {
   "cell_type": "code",
   "execution_count": 38,
   "metadata": {},
   "outputs": [],
   "source": [
    "blob = TextBlob(Path('RomeoAndJuliet.txt').read_text())"
   ]
  },
  {
   "cell_type": "markdown",
   "metadata": {},
   "source": [
    "* Access the word frequencies through the `TextBlob`’s `word_counts` dictionary"
   ]
  },
  {
   "cell_type": "code",
   "execution_count": 39,
   "metadata": {},
   "outputs": [
    {
     "data": {
      "text/plain": [
       "195"
      ]
     },
     "execution_count": 39,
     "metadata": {},
     "output_type": "execute_result"
    }
   ],
   "source": [
    "blob.word_counts['juliet']"
   ]
  },
  {
   "cell_type": "code",
   "execution_count": 40,
   "metadata": {},
   "outputs": [
    {
     "data": {
      "text/plain": [
       "320"
      ]
     },
     "execution_count": 40,
     "metadata": {},
     "output_type": "execute_result"
    }
   ],
   "source": [
    "blob.word_counts['romeo']"
   ]
  },
  {
   "cell_type": "code",
   "execution_count": 41,
   "metadata": {},
   "outputs": [
    {
     "data": {
      "text/plain": [
       "278"
      ]
     },
     "execution_count": 41,
     "metadata": {},
     "output_type": "execute_result"
    }
   ],
   "source": [
    "blob.word_counts['thou']"
   ]
  },
  {
   "cell_type": "markdown",
   "metadata": {},
   "source": [
    "* If you already have tokenized a `TextBlob` into a `WordList`, you can count specific words in the list via the `count` method"
   ]
  },
  {
   "cell_type": "code",
   "execution_count": 42,
   "metadata": {},
   "outputs": [
    {
     "data": {
      "text/plain": [
       "14"
      ]
     },
     "execution_count": 42,
     "metadata": {},
     "output_type": "execute_result"
    }
   ],
   "source": [
    "blob.words.count('joy')"
   ]
  },
  {
   "cell_type": "code",
   "execution_count": 43,
   "metadata": {},
   "outputs": [
    {
     "data": {
      "text/plain": [
       "46"
      ]
     },
     "execution_count": 43,
     "metadata": {},
     "output_type": "execute_result"
    }
   ],
   "source": [
    "blob.noun_phrases.count('lady capulet')"
   ]
  },
  {
   "cell_type": "markdown",
   "metadata": {},
   "source": [
    "##  Getting Definitions, Synonyms and Antonyms from WordNet\n",
    "### Getting Definitions\n",
    "* [**WordNet**](https://wordnet.princeton.edu/) is a **English word database** created by **Princeton University**\n",
    "* TextBlob uses **NLTK’s WordNet interface** to look up word **definitions**, and get **synonyms** and **antonyms** \n",
    "* [NLTK WordNet interface documentation](https://www.nltk.org/api/nltk.corpus.reader.html#module-nltk.corpus.reader.wordnet)"
   ]
  },
  {
   "cell_type": "code",
   "execution_count": 44,
   "metadata": {},
   "outputs": [],
   "source": [
    "from textblob import Word"
   ]
  },
  {
   "cell_type": "code",
   "execution_count": 45,
   "metadata": {},
   "outputs": [],
   "source": [
    "happy = Word('happy')"
   ]
  },
  {
   "cell_type": "markdown",
   "metadata": {},
   "source": [
    "* `Word` class’s `definitions` property returns a list of all the word’s definitions in the WordNet database"
   ]
  },
  {
   "cell_type": "markdown",
   "metadata": {},
   "source": [
    "## Deleting Stop Words\n",
    "* Common words that are often removed before analysis because they do not provide useful information\n",
    "* Returned by the NLTK `stopwords` module’s [`words` function](https://www.nltk.org/book/ch02.html)"
   ]
  },
  {
   "cell_type": "markdown",
   "metadata": {},
   "source": [
    "| NLTK’s English stop words list\n",
    "| :---\n",
    "| `['a', 'about', 'above', 'after', 'again', 'against', 'ain', 'all', 'am', 'an', 'and', 'any', 'are', 'aren', \"aren't\", 'as', 'at', 'be', 'because', 'been', 'before', 'being', 'below', 'between', 'both', 'but', 'by', 'can', 'couldn', \"couldn't\", 'd', 'did', 'didn', \"didn't\", 'do', 'does', 'doesn', \"doesn't\", 'doing', 'don', \"don't\", 'down', 'during', 'each', 'few', 'for', 'from', 'further', 'had', 'hadn', \"hadn't\", 'has', 'hasn', \"hasn't\", 'have', 'haven', \"haven't\", 'having', 'he', 'her', 'here', 'hers', 'herself', 'him', 'himself', 'his', 'how', 'i', 'if', 'in', 'into', 'is', 'isn', \"isn't\", 'it', \"it's\", 'its', 'itself', 'just', 'll', 'm', 'ma', 'me', 'mightn', \"mightn't\", 'more', 'most', 'mustn', \"mustn't\", 'my', 'myself', 'needn', \"needn't\", 'no', 'nor', 'not', 'now', 'o', 'of', 'off', 'on', 'once', 'only', 'or', 'other', 'our', 'ours', 'ourselves', 'out', 'over', 'own', 're', 's', 'same', 'shan', \"shan't\", 'she', \"she's\", 'should', \"should've\", 'shouldn', \"shouldn't\", 'so', 'some', 'such', 't', 'than', 'that', \"that'll\", 'the', 'their', 'theirs', 'them', 'themselves', 'then', 'there', 'these', 'they', 'this', 'those', 'through', 'to', 'too', 'under', 'until', 'up', 've', 'very', 'was', 'wasn', \"wasn't\", 'we', 'were', 'weren', \"weren't\", 'what', 'when', 'where', 'which', 'while', 'who', 'whom', 'why', 'will', 'with', 'won', \"won't\", 'wouldn', \"wouldn't\", 'y', 'you', \"you'd\", \"you'll\", \"you're\", \"you've\", 'your', 'yours', 'yourself', 'yourselves']` "
   ]
  },
  {
   "cell_type": "markdown",
   "metadata": {},
   "source": [
    "## n-grams \n",
    "* [**n-gram**](https://en.wikipedia.org/wiki/N-gram) &mdash; a sequence of **n** text items, such as letters in words or words in a sentence. \n",
    "* Used to identify letters or words that frequently appear adjacent to one another\n",
    "    * **Predictive text input**\n",
    "    * **Speech-to-text**"
   ]
  },
  {
   "cell_type": "code",
   "execution_count": 46,
   "metadata": {},
   "outputs": [],
   "source": [
    "from textblob import TextBlob"
   ]
  },
  {
   "cell_type": "code",
   "execution_count": 47,
   "metadata": {},
   "outputs": [],
   "source": [
    "text = 'Today is a beautiful day. Tomorrow looks like bad weather.'"
   ]
  },
  {
   "cell_type": "code",
   "execution_count": 48,
   "metadata": {},
   "outputs": [],
   "source": [
    "blob = TextBlob(text)"
   ]
  },
  {
   "cell_type": "markdown",
   "metadata": {},
   "source": [
    "* `TextBlob`’s `ngrams` method produces a list of `WordList` n-grams of length three by default—known as trigrams\n",
    "* Use keyword argument `n` to produce n-grams of any desired length"
   ]
  },
  {
   "cell_type": "code",
   "execution_count": 49,
   "metadata": {},
   "outputs": [
    {
     "data": {
      "text/plain": [
       "[WordList(['Today', 'is', 'a']),\n",
       " WordList(['is', 'a', 'beautiful']),\n",
       " WordList(['a', 'beautiful', 'day']),\n",
       " WordList(['beautiful', 'day', 'Tomorrow']),\n",
       " WordList(['day', 'Tomorrow', 'looks']),\n",
       " WordList(['Tomorrow', 'looks', 'like']),\n",
       " WordList(['looks', 'like', 'bad']),\n",
       " WordList(['like', 'bad', 'weather'])]"
      ]
     },
     "execution_count": 49,
     "metadata": {},
     "output_type": "execute_result"
    }
   ],
   "source": [
    "blob.ngrams()"
   ]
  },
  {
   "cell_type": "code",
   "execution_count": 50,
   "metadata": {},
   "outputs": [
    {
     "data": {
      "text/plain": [
       "[WordList(['Today', 'is', 'a', 'beautiful', 'day']),\n",
       " WordList(['is', 'a', 'beautiful', 'day', 'Tomorrow']),\n",
       " WordList(['a', 'beautiful', 'day', 'Tomorrow', 'looks']),\n",
       " WordList(['beautiful', 'day', 'Tomorrow', 'looks', 'like']),\n",
       " WordList(['day', 'Tomorrow', 'looks', 'like', 'bad']),\n",
       " WordList(['Tomorrow', 'looks', 'like', 'bad', 'weather'])]"
      ]
     },
     "execution_count": 50,
     "metadata": {},
     "output_type": "execute_result"
    }
   ],
   "source": [
    "blob.ngrams(n=5)"
   ]
  },
  {
   "cell_type": "markdown",
   "metadata": {},
   "source": [
    "https://www.kaggle.com/competitions/commonlitreadabilityprize"
   ]
  },
  {
   "cell_type": "code",
   "execution_count": 51,
   "metadata": {},
   "outputs": [
    {
     "data": {
      "text/html": [
       "<div>\n",
       "<style scoped>\n",
       "    .dataframe tbody tr th:only-of-type {\n",
       "        vertical-align: middle;\n",
       "    }\n",
       "\n",
       "    .dataframe tbody tr th {\n",
       "        vertical-align: top;\n",
       "    }\n",
       "\n",
       "    .dataframe thead th {\n",
       "        text-align: right;\n",
       "    }\n",
       "</style>\n",
       "<table border=\"1\" class=\"dataframe\">\n",
       "  <thead>\n",
       "    <tr style=\"text-align: right;\">\n",
       "      <th></th>\n",
       "      <th>Unnamed: 0</th>\n",
       "      <th>id</th>\n",
       "      <th>excerpt</th>\n",
       "    </tr>\n",
       "  </thead>\n",
       "  <tbody>\n",
       "    <tr>\n",
       "      <th>0</th>\n",
       "      <td>0</td>\n",
       "      <td>c12129c31</td>\n",
       "      <td>When the young people returned to the ballroom...</td>\n",
       "    </tr>\n",
       "    <tr>\n",
       "      <th>1</th>\n",
       "      <td>1</td>\n",
       "      <td>85aa80a4c</td>\n",
       "      <td>All through dinner time, Mrs. Fayre was somewh...</td>\n",
       "    </tr>\n",
       "    <tr>\n",
       "      <th>2</th>\n",
       "      <td>2</td>\n",
       "      <td>b69ac6792</td>\n",
       "      <td>As Roger had predicted, the snow departed as q...</td>\n",
       "    </tr>\n",
       "    <tr>\n",
       "      <th>3</th>\n",
       "      <td>3</td>\n",
       "      <td>dd1000b26</td>\n",
       "      <td>And outside before the palace a great garden w...</td>\n",
       "    </tr>\n",
       "    <tr>\n",
       "      <th>4</th>\n",
       "      <td>4</td>\n",
       "      <td>37c1b32fb</td>\n",
       "      <td>Once upon a time there were Three Bears who li...</td>\n",
       "    </tr>\n",
       "  </tbody>\n",
       "</table>\n",
       "</div>"
      ],
      "text/plain": [
       "   Unnamed: 0         id                                            excerpt\n",
       "0           0  c12129c31  When the young people returned to the ballroom...\n",
       "1           1  85aa80a4c  All through dinner time, Mrs. Fayre was somewh...\n",
       "2           2  b69ac6792  As Roger had predicted, the snow departed as q...\n",
       "3           3  dd1000b26  And outside before the palace a great garden w...\n",
       "4           4  37c1b32fb  Once upon a time there were Three Bears who li..."
      ]
     },
     "execution_count": 51,
     "metadata": {},
     "output_type": "execute_result"
    }
   ],
   "source": [
    "import pandas as pd\n",
    "textdata = pd.read_csv('textdata.csv')\n",
    "textdata.head()"
   ]
  },
  {
   "cell_type": "code",
   "execution_count": 52,
   "metadata": {},
   "outputs": [
    {
     "data": {
      "text/plain": [
       "(2834, 2)"
      ]
     },
     "execution_count": 52,
     "metadata": {},
     "output_type": "execute_result"
    }
   ],
   "source": [
    "textdata =  textdata[['id', 'excerpt']]\n",
    "textdata.shape"
   ]
  },
  {
   "cell_type": "code",
   "execution_count": 54,
   "metadata": {},
   "outputs": [
    {
     "data": {
      "text/html": [
       "<div>\n",
       "<style scoped>\n",
       "    .dataframe tbody tr th:only-of-type {\n",
       "        vertical-align: middle;\n",
       "    }\n",
       "\n",
       "    .dataframe tbody tr th {\n",
       "        vertical-align: top;\n",
       "    }\n",
       "\n",
       "    .dataframe thead th {\n",
       "        text-align: right;\n",
       "    }\n",
       "</style>\n",
       "<table border=\"1\" class=\"dataframe\">\n",
       "  <thead>\n",
       "    <tr style=\"text-align: right;\">\n",
       "      <th></th>\n",
       "      <th>id</th>\n",
       "      <th>excerpt</th>\n",
       "    </tr>\n",
       "  </thead>\n",
       "  <tbody>\n",
       "    <tr>\n",
       "      <th>0</th>\n",
       "      <td>c12129c31</td>\n",
       "      <td>When the young people returned to the ballroom...</td>\n",
       "    </tr>\n",
       "    <tr>\n",
       "      <th>1</th>\n",
       "      <td>85aa80a4c</td>\n",
       "      <td>All through dinner time, Mrs. Fayre was somewh...</td>\n",
       "    </tr>\n",
       "    <tr>\n",
       "      <th>2</th>\n",
       "      <td>b69ac6792</td>\n",
       "      <td>As Roger had predicted, the snow departed as q...</td>\n",
       "    </tr>\n",
       "    <tr>\n",
       "      <th>3</th>\n",
       "      <td>dd1000b26</td>\n",
       "      <td>And outside before the palace a great garden w...</td>\n",
       "    </tr>\n",
       "    <tr>\n",
       "      <th>4</th>\n",
       "      <td>37c1b32fb</td>\n",
       "      <td>Once upon a time there were Three Bears who li...</td>\n",
       "    </tr>\n",
       "  </tbody>\n",
       "</table>\n",
       "</div>"
      ],
      "text/plain": [
       "          id                                            excerpt\n",
       "0  c12129c31  When the young people returned to the ballroom...\n",
       "1  85aa80a4c  All through dinner time, Mrs. Fayre was somewh...\n",
       "2  b69ac6792  As Roger had predicted, the snow departed as q...\n",
       "3  dd1000b26  And outside before the palace a great garden w...\n",
       "4  37c1b32fb  Once upon a time there were Three Bears who li..."
      ]
     },
     "execution_count": 54,
     "metadata": {},
     "output_type": "execute_result"
    }
   ],
   "source": [
    "textdata.head()"
   ]
  },
  {
   "cell_type": "code",
   "execution_count": 55,
   "metadata": {},
   "outputs": [
    {
     "data": {
      "text/plain": [
       "'When the young people returned to the ballroom, it presented a decidedly changed appearance. Instead of an interior scene, it was a winter landscape.\\nThe floor was covered with snow-white canvas, not laid on smoothly, but rumpled over bumps and hillocks, like a real snow field. The numerous palms and evergreens that had decorated the room, were powdered with flour and strewn with tufts of cotton, like snow. Also diamond dust had been lightly sprinkled on them, and glittering crystal icicles hung from the branches.\\nAt each end of the room, on the wall, hung a beautiful bear-skin rug.\\nThese rugs were for prizes, one for the girls and one for the boys. And this was the game.\\nThe girls were gathered at one end of the room and the boys at the other, and one end was called the North Pole, and the other the South Pole. Each player was given a small flag which they were to plant on reaching the Pole.\\nThis would have been an easy matter, but each traveller was obliged to wear snowshoes.'"
      ]
     },
     "execution_count": 55,
     "metadata": {},
     "output_type": "execute_result"
    }
   ],
   "source": [
    "textdata.excerpt[0]"
   ]
  },
  {
   "cell_type": "code",
   "execution_count": 56,
   "metadata": {},
   "outputs": [
    {
     "data": {
      "text/plain": [
       "['When the young people returned to the ballroom, it presented a decidedly changed appearance. Instead of an interior scene, it was a winter landscape.\\nThe floor was covered with snow-white canvas, not laid on smoothly, but rumpled over bumps and hillocks, like a real snow field. The numerous palms and evergreens that had decorated the room, were powdered with flour and strewn with tufts of cotton, like snow. Also diamond dust had been lightly sprinkled on them, and glittering crystal icicles hung from the branches.\\nAt each end of the room, on the wall, hung a beautiful bear-skin rug.\\nThese rugs were for prizes, one for the girls and one for the boys. And this was the game.\\nThe girls were gathered at one end of the room and the boys at the other, and one end was called the North Pole, and the other the South Pole. Each player was given a small flag which they were to plant on reaching the Pole.\\nThis would have been an easy matter, but each traveller was obliged to wear snowshoes.',\n",
       " 'All through dinner time, Mrs. Fayre was somewhat silent, her eyes resting on Dolly with a wistful, uncertain expression. She wanted to give the child the pleasure she craved, but she had hard work to bring herself to the point of overcoming her own objections.\\nAt last, however, when the meal was nearly over, she smiled at her little daughter, and said, \"All right, Dolly, you may go.\"\\n\"Oh, mother!\" Dolly cried, overwhelmed with sudden delight. \"Really?\\nOh, I am so glad! Are you sure you\\'re willing?\"\\n\"I\\'ve persuaded myself to be willing, against my will,\" returned Mrs. Fayre, whimsically. \"I confess I just hate to have you go, but I can\\'t bear to deprive you of the pleasure trip. And, as you say, it would also keep Dotty at home, and so, altogether, I think I shall have to give in.\"\\n\"Oh, you angel mother! You blessed lady! How good you are!\" And Dolly flew around the table and gave her mother a hug that nearly suffocated her.',\n",
       " 'As Roger had predicted, the snow departed as quickly as it came, and two days after their sleigh ride there was scarcely a vestige of white on the ground. Tennis was again possible and a great game was in progress on the court at Pine Laurel. Patty and Roger were playing against Elise and Sam Blaney, and the pairs were well matched.\\nBut the long-contested victory finally went against Patty, and she laughingly accepted defeat.\\n\"Only because Patty\\'s not quite back on her game yet,\" Roger defended; \"this child has been on the sick list, you know, Sam, and she isn\\'t up to her own mark.\"\\n\"Well, I like that!\" cried Patty; \"suppose you bear half the blame, Roger. You see, Mr. Blaney, he is so absorbed in his own Love Game, he can\\'t play with his old-time skill.\"\\n\"All right, Patsy, let it go at that. And it\\'s so, too. I suddenly remembered something Mona told me to tell you, and it affected my service.\"']"
      ]
     },
     "execution_count": 56,
     "metadata": {},
     "output_type": "execute_result"
    }
   ],
   "source": [
    "list(textdata.excerpt)[:3]"
   ]
  },
  {
   "cell_type": "code",
   "execution_count": 57,
   "metadata": {},
   "outputs": [],
   "source": [
    "from nltk.tokenize import word_tokenize"
   ]
  },
  {
   "cell_type": "code",
   "execution_count": 58,
   "metadata": {},
   "outputs": [
    {
     "data": {
      "text/html": [
       "<div>\n",
       "<style scoped>\n",
       "    .dataframe tbody tr th:only-of-type {\n",
       "        vertical-align: middle;\n",
       "    }\n",
       "\n",
       "    .dataframe tbody tr th {\n",
       "        vertical-align: top;\n",
       "    }\n",
       "\n",
       "    .dataframe thead th {\n",
       "        text-align: right;\n",
       "    }\n",
       "</style>\n",
       "<table border=\"1\" class=\"dataframe\">\n",
       "  <thead>\n",
       "    <tr style=\"text-align: right;\">\n",
       "      <th></th>\n",
       "      <th>id</th>\n",
       "      <th>excerpt</th>\n",
       "      <th>tokens</th>\n",
       "    </tr>\n",
       "  </thead>\n",
       "  <tbody>\n",
       "    <tr>\n",
       "      <th>0</th>\n",
       "      <td>c12129c31</td>\n",
       "      <td>When the young people returned to the ballroom...</td>\n",
       "      <td>[When, the, young, people, returned, to, the, ...</td>\n",
       "    </tr>\n",
       "    <tr>\n",
       "      <th>1</th>\n",
       "      <td>85aa80a4c</td>\n",
       "      <td>All through dinner time, Mrs. Fayre was somewh...</td>\n",
       "      <td>[All, through, dinner, time, ,, Mrs., Fayre, w...</td>\n",
       "    </tr>\n",
       "    <tr>\n",
       "      <th>2</th>\n",
       "      <td>b69ac6792</td>\n",
       "      <td>As Roger had predicted, the snow departed as q...</td>\n",
       "      <td>[As, Roger, had, predicted, ,, the, snow, depa...</td>\n",
       "    </tr>\n",
       "    <tr>\n",
       "      <th>3</th>\n",
       "      <td>dd1000b26</td>\n",
       "      <td>And outside before the palace a great garden w...</td>\n",
       "      <td>[And, outside, before, the, palace, a, great, ...</td>\n",
       "    </tr>\n",
       "    <tr>\n",
       "      <th>4</th>\n",
       "      <td>37c1b32fb</td>\n",
       "      <td>Once upon a time there were Three Bears who li...</td>\n",
       "      <td>[Once, upon, a, time, there, were, Three, Bear...</td>\n",
       "    </tr>\n",
       "  </tbody>\n",
       "</table>\n",
       "</div>"
      ],
      "text/plain": [
       "          id                                            excerpt  \\\n",
       "0  c12129c31  When the young people returned to the ballroom...   \n",
       "1  85aa80a4c  All through dinner time, Mrs. Fayre was somewh...   \n",
       "2  b69ac6792  As Roger had predicted, the snow departed as q...   \n",
       "3  dd1000b26  And outside before the palace a great garden w...   \n",
       "4  37c1b32fb  Once upon a time there were Three Bears who li...   \n",
       "\n",
       "                                              tokens  \n",
       "0  [When, the, young, people, returned, to, the, ...  \n",
       "1  [All, through, dinner, time, ,, Mrs., Fayre, w...  \n",
       "2  [As, Roger, had, predicted, ,, the, snow, depa...  \n",
       "3  [And, outside, before, the, palace, a, great, ...  \n",
       "4  [Once, upon, a, time, there, were, Three, Bear...  "
      ]
     },
     "execution_count": 58,
     "metadata": {},
     "output_type": "execute_result"
    }
   ],
   "source": [
    "textdata['tokens'] = textdata['excerpt'].apply(word_tokenize)\n",
    "textdata.head()"
   ]
  },
  {
   "cell_type": "code",
   "execution_count": 67,
   "metadata": {},
   "outputs": [],
   "source": [
    "from wordcloud import STOPWORDS\n",
    "stops = list(STOPWORDS)"
   ]
  },
  {
   "cell_type": "code",
   "execution_count": 68,
   "metadata": {},
   "outputs": [],
   "source": [
    "textdata['tokens'] = textdata['tokens'].apply(lambda x: [item for item in x if item not in stops])"
   ]
  },
  {
   "cell_type": "code",
   "execution_count": 69,
   "metadata": {},
   "outputs": [
    {
     "data": {
      "text/html": [
       "<div>\n",
       "<style scoped>\n",
       "    .dataframe tbody tr th:only-of-type {\n",
       "        vertical-align: middle;\n",
       "    }\n",
       "\n",
       "    .dataframe tbody tr th {\n",
       "        vertical-align: top;\n",
       "    }\n",
       "\n",
       "    .dataframe thead th {\n",
       "        text-align: right;\n",
       "    }\n",
       "</style>\n",
       "<table border=\"1\" class=\"dataframe\">\n",
       "  <thead>\n",
       "    <tr style=\"text-align: right;\">\n",
       "      <th></th>\n",
       "      <th>id</th>\n",
       "      <th>excerpt</th>\n",
       "      <th>tokens</th>\n",
       "      <th>subjectivity</th>\n",
       "      <th>polarity</th>\n",
       "    </tr>\n",
       "  </thead>\n",
       "  <tbody>\n",
       "    <tr>\n",
       "      <th>0</th>\n",
       "      <td>c12129c31</td>\n",
       "      <td>When the young people returned to the ballroom...</td>\n",
       "      <td>[When, young, people, returned, ballroom, ,, p...</td>\n",
       "      <td>0.525758</td>\n",
       "      <td>0.134848</td>\n",
       "    </tr>\n",
       "    <tr>\n",
       "      <th>1</th>\n",
       "      <td>85aa80a4c</td>\n",
       "      <td>All through dinner time, Mrs. Fayre was somewh...</td>\n",
       "      <td>[All, dinner, time, ,, Mrs., Fayre, somewhat, ...</td>\n",
       "      <td>0.566643</td>\n",
       "      <td>0.133999</td>\n",
       "    </tr>\n",
       "  </tbody>\n",
       "</table>\n",
       "</div>"
      ],
      "text/plain": [
       "          id                                            excerpt  \\\n",
       "0  c12129c31  When the young people returned to the ballroom...   \n",
       "1  85aa80a4c  All through dinner time, Mrs. Fayre was somewh...   \n",
       "\n",
       "                                              tokens  subjectivity  polarity  \n",
       "0  [When, young, people, returned, ballroom, ,, p...      0.525758  0.134848  \n",
       "1  [All, dinner, time, ,, Mrs., Fayre, somewhat, ...      0.566643  0.133999  "
      ]
     },
     "execution_count": 69,
     "metadata": {},
     "output_type": "execute_result"
    }
   ],
   "source": [
    "textdata.head(2)"
   ]
  },
  {
   "cell_type": "code",
   "execution_count": 70,
   "metadata": {},
   "outputs": [
    {
     "data": {
      "text/html": [
       "<div>\n",
       "<style scoped>\n",
       "    .dataframe tbody tr th:only-of-type {\n",
       "        vertical-align: middle;\n",
       "    }\n",
       "\n",
       "    .dataframe tbody tr th {\n",
       "        vertical-align: top;\n",
       "    }\n",
       "\n",
       "    .dataframe thead th {\n",
       "        text-align: right;\n",
       "    }\n",
       "</style>\n",
       "<table border=\"1\" class=\"dataframe\">\n",
       "  <thead>\n",
       "    <tr style=\"text-align: right;\">\n",
       "      <th></th>\n",
       "      <th>id</th>\n",
       "      <th>excerpt</th>\n",
       "      <th>tokens</th>\n",
       "      <th>subjectivity</th>\n",
       "      <th>polarity</th>\n",
       "    </tr>\n",
       "  </thead>\n",
       "  <tbody>\n",
       "    <tr>\n",
       "      <th>0</th>\n",
       "      <td>c12129c31</td>\n",
       "      <td>When the young people returned to the ballroom...</td>\n",
       "      <td>[When, young, people, returned, ballroom, ,, p...</td>\n",
       "      <td>0.525758</td>\n",
       "      <td>0.134848</td>\n",
       "    </tr>\n",
       "    <tr>\n",
       "      <th>1</th>\n",
       "      <td>85aa80a4c</td>\n",
       "      <td>All through dinner time, Mrs. Fayre was somewh...</td>\n",
       "      <td>[All, dinner, time, ,, Mrs., Fayre, somewhat, ...</td>\n",
       "      <td>0.566643</td>\n",
       "      <td>0.133999</td>\n",
       "    </tr>\n",
       "    <tr>\n",
       "      <th>2</th>\n",
       "      <td>b69ac6792</td>\n",
       "      <td>As Roger had predicted, the snow departed as q...</td>\n",
       "      <td>[As, Roger, predicted, ,, snow, departed, quic...</td>\n",
       "      <td>0.611640</td>\n",
       "      <td>0.082672</td>\n",
       "    </tr>\n",
       "    <tr>\n",
       "      <th>3</th>\n",
       "      <td>dd1000b26</td>\n",
       "      <td>And outside before the palace a great garden w...</td>\n",
       "      <td>[And, outside, palace, great, garden, walled, ...</td>\n",
       "      <td>0.636667</td>\n",
       "      <td>0.333869</td>\n",
       "    </tr>\n",
       "    <tr>\n",
       "      <th>4</th>\n",
       "      <td>37c1b32fb</td>\n",
       "      <td>Once upon a time there were Three Bears who li...</td>\n",
       "      <td>[Once, upon, time, Three, Bears, lived, togeth...</td>\n",
       "      <td>0.567593</td>\n",
       "      <td>0.198611</td>\n",
       "    </tr>\n",
       "  </tbody>\n",
       "</table>\n",
       "</div>"
      ],
      "text/plain": [
       "          id                                            excerpt  \\\n",
       "0  c12129c31  When the young people returned to the ballroom...   \n",
       "1  85aa80a4c  All through dinner time, Mrs. Fayre was somewh...   \n",
       "2  b69ac6792  As Roger had predicted, the snow departed as q...   \n",
       "3  dd1000b26  And outside before the palace a great garden w...   \n",
       "4  37c1b32fb  Once upon a time there were Three Bears who li...   \n",
       "\n",
       "                                              tokens  subjectivity  polarity  \n",
       "0  [When, young, people, returned, ballroom, ,, p...      0.525758  0.134848  \n",
       "1  [All, dinner, time, ,, Mrs., Fayre, somewhat, ...      0.566643  0.133999  \n",
       "2  [As, Roger, predicted, ,, snow, departed, quic...      0.611640  0.082672  \n",
       "3  [And, outside, palace, great, garden, walled, ...      0.636667  0.333869  \n",
       "4  [Once, upon, time, Three, Bears, lived, togeth...      0.567593  0.198611  "
      ]
     },
     "execution_count": 70,
     "metadata": {},
     "output_type": "execute_result"
    }
   ],
   "source": [
    "textdata['subjectivity'] = textdata.apply(lambda x: TextBlob(x['excerpt']).sentiment.subjectivity, axis=1)\n",
    "textdata['polarity'] = textdata.apply(lambda x: TextBlob(x['excerpt']).sentiment.polarity, axis=1)\n",
    "textdata.head()"
   ]
  },
  {
   "cell_type": "code",
   "execution_count": null,
   "metadata": {},
   "outputs": [],
   "source": []
  }
 ],
 "metadata": {
  "celltoolbar": "Slideshow",
  "kernelspec": {
   "display_name": "Python 3 (ipykernel)",
   "language": "python",
   "name": "python3"
  },
  "language_info": {
   "codemirror_mode": {
    "name": "ipython",
    "version": 3
   },
   "file_extension": ".py",
   "mimetype": "text/x-python",
   "name": "python",
   "nbconvert_exporter": "python",
   "pygments_lexer": "ipython3",
   "version": "3.11.7"
  },
  "latex_envs": {
   "LaTeX_envs_menu_present": true,
   "autoclose": false,
   "autocomplete": true,
   "bibliofile": "biblio.bib",
   "cite_by": "apalike",
   "current_citInitial": 1,
   "eqLabelWithNumbers": true,
   "eqNumInitial": 1,
   "hotkeys": {
    "equation": "Ctrl-E",
    "itemize": "Ctrl-I"
   },
   "labels_anchors": false,
   "latex_user_defs": false,
   "report_style_numbering": false,
   "user_envs_cfg": false
  },
  "varInspector": {
   "cols": {
    "lenName": 16,
    "lenType": 16,
    "lenVar": 40
   },
   "kernels_config": {
    "python": {
     "delete_cmd_postfix": "",
     "delete_cmd_prefix": "del ",
     "library": "var_list.py",
     "varRefreshCmd": "print(var_dic_list())"
    },
    "r": {
     "delete_cmd_postfix": ") ",
     "delete_cmd_prefix": "rm(",
     "library": "var_list.r",
     "varRefreshCmd": "cat(var_dic_list()) "
    }
   },
   "types_to_exclude": [
    "module",
    "function",
    "builtin_function_or_method",
    "instance",
    "_Feature"
   ],
   "window_display": false
  },
  "widgets": {
   "application/vnd.jupyter.widget-state+json": {
    "state": {},
    "version_major": 2,
    "version_minor": 0
   }
  }
 },
 "nbformat": 4,
 "nbformat_minor": 4
}
