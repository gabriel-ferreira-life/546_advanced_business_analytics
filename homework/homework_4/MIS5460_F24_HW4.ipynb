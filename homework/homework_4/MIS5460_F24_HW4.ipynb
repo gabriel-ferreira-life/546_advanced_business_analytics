{
 "cells": [
  {
   "cell_type": "markdown",
   "metadata": {},
   "source": [
    "## Instructions"
   ]
  },
  {
   "cell_type": "markdown",
   "metadata": {},
   "source": [
    "1. **Labeling & Peer Grading:** Your homework will be peer graded. To stay anonymous, avoid using your name and label your file with the last four digits of your student ID (e.g., HW#_Solutions_3938).\n",
    "\n",
    "2. **Submission:** Submit both your IPython notebook (.ipynb) and an HTML file of the notebook to Canvas under Assignments → HW # → Submit Assignment. After submitting, download and check the files to make sure that you've uploaded the correct versions. Both files are required for your HW to be graded.\n",
    "3. \n",
    " <font color='red'> No pdf file required so write all the details in your ipynb file.</font>\n",
    "2. **AI Use Policy:** Solve each problem independently by yourself. Use AI tools like ChatGPT or Google Gemini for brainstorming and learning only—copying AI-generated content is prohibited. You do not neeViolations will lead to penalties, up to failing the course.\n",
    "\n",
    "3. **Problem Structure:** <font color='red'>Break down each problem ( already done in most problems) into three interconnected parts and implement each in separate code cells. Ensure that each part logically builds on the previous one. Include comments in your code to explain its purpose, followed by a Markdown cell analyzing what was achieved. After completing all parts, add a final Markdown cell reflecting on your overall approach, discussing any challenges faced, and explaining how you utilized AI tools in your process.\n",
    "</font>\n",
    "4. **Deadlines & Academic Integrity:** This homework is due on 11/05/2024 at midnight. <font color='red'>Disclosure of this assignment and assignment answers to anyone or any website is a contributory infringement of academic dishonesty at ISU. Do not share or post course materials without the express written consent of the copyright holder and instructor. The class will follow Iowa State University’s policy on academic dishonesty. Anyone suspected of academic dishonesty will be reported to the Dean of Students Office.</font>"
   ]
  },
  {
   "cell_type": "markdown",
   "metadata": {},
   "source": [
    "#### Each problem is worth 25 points. Total $\\bf 25\\times 4 = 100$."
   ]
  },
  {
   "cell_type": "markdown",
   "metadata": {},
   "source": [
    "### Problem 1. \n",
    "Upload the sn_ids.csv and do the following. Make sure to explain all the details for each part.\n",
    "* Apply the PageRank algorithm to compute the rank for each ID in the network. Sort the results in descending order, round the PageRank values to 3 decimals, and create a DataFrame with two columns: \"ids\" and \"PageRank.\"\n",
    "* From the PageRank DataFrame, select the top 5 IDs and use them to filter the original sn_ids.csv based on 'id_1' and 'id_2'. Plot the network graph of the filtered data with figsize(50, 50) and use different colors for \"id_1\" and \"id_2.\"\n",
    "* Repeat part 1 using the HITS algorithm to compute authority and hub scores. Then, select the top 5 IDs based on authority values and repeat part 2 to filter and plot the network graph."
   ]
  },
  {
   "cell_type": "code",
   "execution_count": 1,
   "metadata": {},
   "outputs": [],
   "source": [
    "import pandas as pd\n",
    "import numpy as np\n",
    "import matplotlib.pyplot as plt\n",
    "import seaborn as sns\n",
    "import warnings\n",
    "warnings.filterwarnings('ignore')\n",
    "pd.set_option('display.max_columns', 20)"
   ]
  },
  {
   "cell_type": "code",
   "execution_count": 2,
   "metadata": {},
   "outputs": [],
   "source": [
    "data_loc = \"/Users/gabrielvictorgomesferreira/Library/Mobile Documents/com~apple~CloudDocs/Work/ISU Classes/Data/\"\n",
    "file_name = \"sn_ids.csv\""
   ]
  },
  {
   "cell_type": "code",
   "execution_count": 3,
   "metadata": {},
   "outputs": [
    {
     "name": "stdout",
     "output_type": "stream",
     "text": [
      "The dataset contains 2,834 rows and 3 columns\n"
     ]
    },
    {
     "data": {
      "text/html": [
       "<div>\n",
       "<style scoped>\n",
       "    .dataframe tbody tr th:only-of-type {\n",
       "        vertical-align: middle;\n",
       "    }\n",
       "\n",
       "    .dataframe tbody tr th {\n",
       "        vertical-align: top;\n",
       "    }\n",
       "\n",
       "    .dataframe thead th {\n",
       "        text-align: right;\n",
       "    }\n",
       "</style>\n",
       "<table border=\"1\" class=\"dataframe\">\n",
       "  <thead>\n",
       "    <tr style=\"text-align: right;\">\n",
       "      <th></th>\n",
       "      <th>textid</th>\n",
       "      <th>text</th>\n",
       "      <th>Bradly_Terry_Score</th>\n",
       "    </tr>\n",
       "  </thead>\n",
       "  <tbody>\n",
       "    <tr>\n",
       "      <th>0</th>\n",
       "      <td>c12129c31</td>\n",
       "      <td>When the young people returned to the ballroom...</td>\n",
       "      <td>-0.340259</td>\n",
       "    </tr>\n",
       "    <tr>\n",
       "      <th>1</th>\n",
       "      <td>85aa80a4c</td>\n",
       "      <td>All through dinner time, Mrs. Fayre was somewh...</td>\n",
       "      <td>-0.315372</td>\n",
       "    </tr>\n",
       "    <tr>\n",
       "      <th>2</th>\n",
       "      <td>b69ac6792</td>\n",
       "      <td>As Roger had predicted, the snow departed as q...</td>\n",
       "      <td>-0.580118</td>\n",
       "    </tr>\n",
       "    <tr>\n",
       "      <th>3</th>\n",
       "      <td>dd1000b26</td>\n",
       "      <td>And outside before the palace a great garden w...</td>\n",
       "      <td>-1.054013</td>\n",
       "    </tr>\n",
       "    <tr>\n",
       "      <th>4</th>\n",
       "      <td>37c1b32fb</td>\n",
       "      <td>Once upon a time there were Three Bears who li...</td>\n",
       "      <td>0.247197</td>\n",
       "    </tr>\n",
       "  </tbody>\n",
       "</table>\n",
       "</div>"
      ],
      "text/plain": [
       "      textid                                               text  \\\n",
       "0  c12129c31  When the young people returned to the ballroom...   \n",
       "1  85aa80a4c  All through dinner time, Mrs. Fayre was somewh...   \n",
       "2  b69ac6792  As Roger had predicted, the snow departed as q...   \n",
       "3  dd1000b26  And outside before the palace a great garden w...   \n",
       "4  37c1b32fb  Once upon a time there were Three Bears who li...   \n",
       "\n",
       "   Bradly_Terry_Score  \n",
       "0           -0.340259  \n",
       "1           -0.315372  \n",
       "2           -0.580118  \n",
       "3           -1.054013  \n",
       "4            0.247197  "
      ]
     },
     "execution_count": 3,
     "metadata": {},
     "output_type": "execute_result"
    }
   ],
   "source": [
    "sn_df = pd.read_csv(data_loc + file_name)\n",
    "rows, columns = sn_df.shape\n",
    "print(f\"The dataset contains {rows:,} rows and {columns} columns\")\n",
    "sn_df.head(5)"
   ]
  },
  {
   "cell_type": "code",
   "execution_count": null,
   "metadata": {},
   "outputs": [],
   "source": []
  },
  {
   "cell_type": "markdown",
   "metadata": {},
   "source": [
    "##### Disclaimer: Problems 2 and 3 are for learning purposes only and not a financial advice."
   ]
  },
  {
   "cell_type": "markdown",
   "metadata": {},
   "source": [
    "### Problem 2. \n",
    "Do the following using the Yahoo Finance package. As usual, write the analysis details and explain all that you do for each part.\n",
    "* Download the data for the 20 ticker symbols. Create a DataFrame with 3 columns: Ticker Symbol, Top 10 institutional holders of each ticker, and the corresponding holding amounts in dollars.\n",
    "* Using the DataFrame, build a network graph where the institutional holders are the source and ticker symbols are the target. Label the nodes and use different colors for the source (holders) and the target (tickers). Adjust the edge thickness based on normalized holding amounts, and scale the size of ticker symbols by their degree.\n",
    "* Modify the graph from part 2 to improve its appearance by making at least one change—such as color, layout, or size—so that the graph looks better in your view. "
   ]
  },
  {
   "cell_type": "code",
   "execution_count": 2,
   "metadata": {},
   "outputs": [],
   "source": [
    "top20_tickers = [\"AAPL\", \"AMZN\", \"MSFT\", \"GOOG\", \"GOOGL\", \"META\", \"TSLA\", \"NVDA\", \"JPM\", \"JNJ\", \"V\", \"PG\",\n",
    "                 \"UNH\", \"HD\", \"MA\", \"BAC\", \"DIS\", \"PYPL\", \"NFLX\", \"ADBE\"]"
   ]
  },
  {
   "cell_type": "code",
   "execution_count": null,
   "metadata": {},
   "outputs": [],
   "source": []
  },
  {
   "cell_type": "markdown",
   "metadata": {},
   "source": [
    "### Problem 3.  \n",
    "Do the following and write the findings from your anslysis.\n",
    "* Use web scraping to collect 25 news articles or titles for each of the 20 stocks listed in the previous problem. Organize the information into a DataFrame with three columns: Date, Journalist, and Article content (or titles if the full article is not accessible). This approach ensures you can proceed even if gathering full articles is challenging\n",
    "* Perform sentiment analysis on the articles collected in part 1 using TextBlob. Sort the resulting DataFrame by sentiment scores to rank the articles by sentiment positivity.\n",
    "* Repeat the sentiment analysis using a Naive Bayes classifier. Compare the results from TextBlob and Naive Bayes to select 10 stocks for your portfolio based on the most positive sentiment trends."
   ]
  },
  {
   "cell_type": "code",
   "execution_count": null,
   "metadata": {},
   "outputs": [],
   "source": []
  },
  {
   "cell_type": "markdown",
   "metadata": {},
   "source": [
    "### Problem 4: \n",
    "Upload the ratings.csv data set with movieId, userId, and the rating as columns and do the following. \n",
    "* Filter out all movies that have received fewer than 100 ratings. Then, create a utility matrix using the filtered data.\n",
    "* Convert the utility matrix to a DataFrame and calculate the number of missing ratings. Also, compute the percentage of missing values in this sparse matrix.\n",
    "* Build an SVD-based collaborative filtering recommender system to predict movie ratings. Calculate the RMSE for the model. Additionally, find a userId who has rated a movie and use the model to generate the top 5 movie recommendations for that user."
   ]
  },
  {
   "cell_type": "code",
   "execution_count": null,
   "metadata": {},
   "outputs": [],
   "source": []
  }
 ],
 "metadata": {
  "kernelspec": {
   "display_name": "data_science",
   "language": "python",
   "name": "python3"
  },
  "language_info": {
   "codemirror_mode": {
    "name": "ipython",
    "version": 3
   },
   "file_extension": ".py",
   "mimetype": "text/x-python",
   "name": "python",
   "nbconvert_exporter": "python",
   "pygments_lexer": "ipython3",
   "version": "3.11.10"
  },
  "latex_envs": {
   "LaTeX_envs_menu_present": true,
   "autoclose": false,
   "autocomplete": true,
   "bibliofile": "biblio.bib",
   "cite_by": "apalike",
   "current_citInitial": 1,
   "eqLabelWithNumbers": true,
   "eqNumInitial": 1,
   "hotkeys": {
    "equation": "Ctrl-E",
    "itemize": "Ctrl-I"
   },
   "labels_anchors": false,
   "latex_user_defs": false,
   "report_style_numbering": false,
   "user_envs_cfg": false
  },
  "varInspector": {
   "cols": {
    "lenName": 16,
    "lenType": 16,
    "lenVar": 40
   },
   "kernels_config": {
    "python": {
     "delete_cmd_postfix": "",
     "delete_cmd_prefix": "del ",
     "library": "var_list.py",
     "varRefreshCmd": "print(var_dic_list())"
    },
    "r": {
     "delete_cmd_postfix": ") ",
     "delete_cmd_prefix": "rm(",
     "library": "var_list.r",
     "varRefreshCmd": "cat(var_dic_list()) "
    }
   },
   "types_to_exclude": [
    "module",
    "function",
    "builtin_function_or_method",
    "instance",
    "_Feature"
   ],
   "window_display": false
  }
 },
 "nbformat": 4,
 "nbformat_minor": 2
}
