{
 "cells": [
  {
   "cell_type": "markdown",
   "metadata": {},
   "source": [
    "### Read the following instructions carefully."
   ]
  },
  {
   "cell_type": "markdown",
   "metadata": {},
   "source": [
    "1) Label your homework solutions with your last name, such as Exam1_Basnet.\n",
    "\n",
    "2) Deliverables: You need to submit 2 solution files + the image file you used.\n",
    "* ipython notebook file with all of your codes\n",
    "* HTML file of your ipython notebook file.\n",
    "*  <font color='red'> PDF file of the solution is not required. </font> \n",
    "\n",
    "3) To submit your exam solutions, go to our course in Canvas --> Assignments --> Exam 2 --> Submit Assignment --> Click \"Choose File\" --> choose the HTML file you saved --> Click another file--> choose ipynb file. Once you submit, download and check to ensure that you have submitted the correct files.\n",
    "\n",
    "\n",
    "4) You can use this ipynb file to start your solution. \n",
    "\n",
    "\n",
    "5) This Exam is graded only by your Instructors.\n",
    "\n",
    "<font color='red'> WARNING: Disclosure of this assignment and assignment answers to anybody or any website is a contributory infringement of academic dishonesty at ISU. Do not share or post course materials without the express written consent of the copyright holder and instructor. The class will follow Iowa State University’s policy on academic dishonesty. Anyone suspected of academic dishonesty will be reported to the Dean of Students Office.</font>\n"
   ]
  },
  {
   "cell_type": "markdown",
   "metadata": {},
   "source": [
    "Data set link: https://www.kaggle.com/datasets/jonathanbesomi/superheroes-nlp-dataset?resource=download"
   ]
  },
  {
   "cell_type": "markdown",
   "metadata": {
    "jupyter": {
     "source_hidden": true
    },
    "tags": []
   },
   "source": [
    "### Problem 1. \n",
    "Upload the superheroes.csv data set and do the following.  \n",
    "* Part 1: EDA\n",
    "  - Remove the columns listed in cols_remove below. This will remove any columns that are not needed for the analysis.\n",
    "  - Remove the rows where the history_text column is missing values. This will remove any rows that do not have a value for the history_text column.\n",
    "  - The column 'name' should be missing one value. Make up a superhero name (such as \"Nebula Fury\") and use it to fill this one missing value in the name column.\n",
    "  - Every column whose name starts with 'has' is binary with values of 0.0 or 1.0. For all these binary variables, count the values and display how many 1s and 0s they have. Fill their null values by 1 if they have more 1s than 0s. Fill them with 0s if they have more 0s than 1s.\n",
    "  - Finally, clean the overall_score (shows as an object in the data) as follows. Remove the symbols '∞' and '-' that is in this column with np. nan values and then replace them with the average of the other overall_score values.\n",
    "\n",
    "After these steps, every variable should be numerical except name, history_text, and superpowers.\n",
    "\n",
    "\n",
    "* Part 2 Modeling: \n",
    "  - Use overall_score as a target and the rest of the numerical variables as features to create a multiple linear regression model using three models of your choice. Make sure to select an appropriate number of features using the method of your choice. Use the metrics Adjusted R-squared and RMSE for the test and train data sets. Report your best model.\n",
    " "
   ]
  },
  {
   "cell_type": "code",
   "execution_count": null,
   "metadata": {},
   "outputs": [],
   "source": []
  },
  {
   "cell_type": "code",
   "execution_count": null,
   "metadata": {},
   "outputs": [],
   "source": []
  },
  {
   "cell_type": "markdown",
   "metadata": {},
   "source": [
    "### Problem 2. \n",
    "Continuing with the features you selected in problem 1, do the following.\n",
    "* Part 1 Vectorizer:\n",
    "  - Use the count vectorizer of your choice to develop the numerical features from the history_text column. This will create a numerical representation of the history_text column that can be used as features in the model.\n",
    "  - Concatenate the numerical features from the history_text column with the selected numerical features from problem \n",
    "  - Retrain a linear regression model with test-train (25%, 75%) rule and report your $R^2$ and RMSE for the test set. \n",
    "* Part 2 Similarity:\n",
    "  - Using the cosine similarity and Jaccard similarity, what are the most similar superhero names with your made-up superhero name for the missing superhero (such as \"Nebula Fury\")."
   ]
  },
  {
   "cell_type": "code",
   "execution_count": null,
   "metadata": {},
   "outputs": [],
   "source": []
  },
  {
   "cell_type": "markdown",
   "metadata": {},
   "source": [
    "### Problem 3. \n",
    "From the cleaned data from problem 1, pick the name, overall_score, and superpowers and do the following.\n",
    "* Part 1 EDA for the Network:\n",
    "  - The superpowers column lists the superpowers mostly as a list. You will create more rows of data by using the different superpowers (see the example below). This should create a data frame with more rows and only one value in the superpower column. What is the dimension of the dataset after this?\n",
    "* Part 2 Network Graph:\n",
    "  - Create a network graph with the name as a source and the (one) superpower as a target. Label the vertices with their respective labels. Add different colors for the source and the target, and change the size of the edge using the normalized overall_score. And change the size of the vertices by their degrees (scale if required).\n",
    "(If this takes too long on your computer, you can use Pagerank to rank the superpowers and choose however many your computer can handle.)"
   ]
  },
  {
   "cell_type": "code",
   "execution_count": 4,
   "metadata": {},
   "outputs": [
    {
     "data": {
      "text/html": [
       "<div>\n",
       "<style scoped>\n",
       "    .dataframe tbody tr th:only-of-type {\n",
       "        vertical-align: middle;\n",
       "    }\n",
       "\n",
       "    .dataframe tbody tr th {\n",
       "        vertical-align: top;\n",
       "    }\n",
       "\n",
       "    .dataframe thead th {\n",
       "        text-align: right;\n",
       "    }\n",
       "</style>\n",
       "<table border=\"1\" class=\"dataframe\">\n",
       "  <thead>\n",
       "    <tr style=\"text-align: right;\">\n",
       "      <th></th>\n",
       "      <th>name</th>\n",
       "      <th>overall_score</th>\n",
       "      <th>superpowers</th>\n",
       "    </tr>\n",
       "  </thead>\n",
       "  <tbody>\n",
       "    <tr>\n",
       "      <th>0</th>\n",
       "      <td>3-D Man</td>\n",
       "      <td>6.0</td>\n",
       "      <td>['Super Speed', 'Super Strength']</td>\n",
       "    </tr>\n",
       "  </tbody>\n",
       "</table>\n",
       "</div>"
      ],
      "text/plain": [
       "      name  overall_score                        superpowers\n",
       "0  3-D Man            6.0  ['Super Speed', 'Super Strength']"
      ]
     },
     "execution_count": 4,
     "metadata": {},
     "output_type": "execute_result"
    }
   ],
   "source": [
    "# First row should look like this\n",
    "pd.DataFrame({'name': ['3-D Man'], 'overall_score': [6.0], 'superpowers': [[\"'Super Speed'\", \"'Super Strength'\"]]})"
   ]
  },
  {
   "cell_type": "code",
   "execution_count": 5,
   "metadata": {},
   "outputs": [
    {
     "data": {
      "text/html": [
       "<div>\n",
       "<style scoped>\n",
       "    .dataframe tbody tr th:only-of-type {\n",
       "        vertical-align: middle;\n",
       "    }\n",
       "\n",
       "    .dataframe tbody tr th {\n",
       "        vertical-align: top;\n",
       "    }\n",
       "\n",
       "    .dataframe thead th {\n",
       "        text-align: right;\n",
       "    }\n",
       "</style>\n",
       "<table border=\"1\" class=\"dataframe\">\n",
       "  <thead>\n",
       "    <tr style=\"text-align: right;\">\n",
       "      <th></th>\n",
       "      <th>name</th>\n",
       "      <th>overall_score</th>\n",
       "      <th>superpowers</th>\n",
       "    </tr>\n",
       "  </thead>\n",
       "  <tbody>\n",
       "    <tr>\n",
       "      <th>0</th>\n",
       "      <td>3-D Man</td>\n",
       "      <td>6.0</td>\n",
       "      <td>'Super Speed'</td>\n",
       "    </tr>\n",
       "    <tr>\n",
       "      <th>1</th>\n",
       "      <td>3-D Man</td>\n",
       "      <td>6.0</td>\n",
       "      <td>'Super Strength'</td>\n",
       "    </tr>\n",
       "  </tbody>\n",
       "</table>\n",
       "</div>"
      ],
      "text/plain": [
       "      name  overall_score       superpowers\n",
       "0  3-D Man            6.0     'Super Speed'\n",
       "1  3-D Man            6.0  'Super Strength'"
      ]
     },
     "execution_count": 5,
     "metadata": {},
     "output_type": "execute_result"
    }
   ],
   "source": [
    "# After you you do EDA for the network\n",
    "pd.DataFrame({'name': ['3-D Man', '3-D Man'], 'overall_score': [6.0, 6.0], 'superpowers': [\"'Super Speed'\", \"'Super Strength'\"]})"
   ]
  },
  {
   "cell_type": "code",
   "execution_count": null,
   "metadata": {},
   "outputs": [],
   "source": []
  },
  {
   "cell_type": "code",
   "execution_count": null,
   "metadata": {},
   "outputs": [],
   "source": []
  },
  {
   "cell_type": "markdown",
   "metadata": {},
   "source": [
    "### Problem 4: \n",
    "* Part 1 Utility Matrix:\n",
    "  - Create a new column in the data named herofan with the values herofanid1, herofanid2, etc.\n",
    "  - Use the data to create a utility matrix with overall_score as values and the percentage of missing values in the utility matrix.\n",
    "* Part 2 Recommender System with SVD:\n",
    "  - Create an SVD-based Collaborative filtering recommender system to recommend movies to the user.  Calculate and report the RMSE of the recommender system.\n",
    "* Part 3 Recommendations:\n",
    "  - Make the top 10 recommendations for a hero fan who likes the hero name you made up (such as \"Nebula Fury\")."
   ]
  },
  {
   "cell_type": "code",
   "execution_count": null,
   "metadata": {},
   "outputs": [],
   "source": []
  }
 ],
 "metadata": {
  "kernelspec": {
   "display_name": "Python 3 (ipykernel)",
   "language": "python",
   "name": "python3"
  },
  "language_info": {
   "codemirror_mode": {
    "name": "ipython",
    "version": 3
   },
   "file_extension": ".py",
   "mimetype": "text/x-python",
   "name": "python",
   "nbconvert_exporter": "python",
   "pygments_lexer": "ipython3",
   "version": "3.12.6"
  },
  "latex_envs": {
   "LaTeX_envs_menu_present": true,
   "autoclose": false,
   "autocomplete": true,
   "bibliofile": "biblio.bib",
   "cite_by": "apalike",
   "current_citInitial": 1,
   "eqLabelWithNumbers": true,
   "eqNumInitial": 1,
   "hotkeys": {
    "equation": "Ctrl-E",
    "itemize": "Ctrl-I"
   },
   "labels_anchors": false,
   "latex_user_defs": false,
   "report_style_numbering": false,
   "user_envs_cfg": false
  },
  "toc-autonumbering": false,
  "varInspector": {
   "cols": {
    "lenName": 16,
    "lenType": 16,
    "lenVar": 40
   },
   "kernels_config": {
    "python": {
     "delete_cmd_postfix": "",
     "delete_cmd_prefix": "del ",
     "library": "var_list.py",
     "varRefreshCmd": "print(var_dic_list())"
    },
    "r": {
     "delete_cmd_postfix": ") ",
     "delete_cmd_prefix": "rm(",
     "library": "var_list.r",
     "varRefreshCmd": "cat(var_dic_list()) "
    }
   },
   "types_to_exclude": [
    "module",
    "function",
    "builtin_function_or_method",
    "instance",
    "_Feature"
   ],
   "window_display": false
  }
 },
 "nbformat": 4,
 "nbformat_minor": 4
}
