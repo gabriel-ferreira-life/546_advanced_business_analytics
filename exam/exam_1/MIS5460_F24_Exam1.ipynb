{
 "cells": [
  {
   "cell_type": "markdown",
   "metadata": {},
   "source": [
    "### Read the following instructions carefully."
   ]
  },
  {
   "cell_type": "markdown",
   "metadata": {},
   "source": [
    "1) Label your homework solutions with your last name, such as Exam1_Basnet.\n",
    "\n",
    "2) Deliverables: You need to submit 2 solution files + the image file you used.\n",
    "* ipython notebook file with all of your codes\n",
    "* HTML file of your ipython notebook file.\n",
    "*  <font color='red'> PDF file of the solution is not required. </font> \n",
    "\n",
    "3) To submit your exam solutions, go to our course in Canvas --> Assignments --> Exam 1 --> Submit Assignment --> Click \"Choose File\" --> choose the HTML file you saved --> Click another file--> choose ipynb file. Once you submit, download and check to ensure that you have submitted the correct files.\n",
    "\n",
    "\n",
    "4) You can use this ipynb file to start your solution. \n",
    "\n",
    "\n",
    "5) This Exam is graded only by your Instructors/TAs.\n",
    "\n",
    "<font color='red'> WARNING: Disclosure of this assignment and assignment answers to anybody or any website is a contributory infringement of academic dishonesty at ISU. Do not share or post course materials without the express written consent of the copyright holder and instructor. The class will follow Iowa State University’s policy on academic dishonesty. Anyone suspected of academic dishonesty will be reported to the Dean of Students Office.</font>\n"
   ]
  },
  {
   "cell_type": "markdown",
   "metadata": {},
   "source": [
    "### Data Source\n",
    "https://www.kaggle.com/datasets/ruthgn/beer-profile-and-ratings-data-set?resource=download&select=beer_profile_and_ratings.csv"
   ]
  },
  {
   "cell_type": "markdown",
   "metadata": {
    "tags": []
   },
   "source": [
    "## Problem 1 (25 points)\n",
    "As a Data Analyst in a newly established brewery, your objective is to extract insights from a dataset containing beer profiles and ratings. The goal is to identify significant features, both numerical and categorical, that play crucial roles in predicting two key aspects: the beer style (Style) and the overall review rating (review_overall). To achieve this, you are required to preprocess the data effectively and compile a refined list of features that are important for predictive modeling. Preprocessing may involve handling missing values, detecting and addressing outliers, defining new features, transforming categorical (text) data into numerical using dummy variables or other encoding methods, and performing data transformations such as scaling. Additionally, feature selection methods like removing multicollinear variables or using dimensionality reduction techniques should be employed to improve model performance as you see fit. What features do you want to use and why?"
   ]
  },
  {
   "cell_type": "code",
   "execution_count": null,
   "metadata": {},
   "outputs": [],
   "source": []
  },
  {
   "cell_type": "markdown",
   "metadata": {},
   "source": [
    "### Problem 2. (25 points)\n",
    "\n",
    "Using the best cross-validated regression model, selected from the pool of models you trained (you determine how many and which models to optimize your evaluation metrics), report key performance metrics such as Root Mean Squared Error (RMSE) and R² on both the training and test sets. These metrics will provide insights into how well the model generalizes to unseen data. Once the model demonstrates strong performance, apply it to predict the overall review rating (review_overall) for a new beer, \"HopDevil IPA,\" using the provided data below. Note that the HopDevil IPA data contains several missing values. Explain how you will handle these missing values to make sure that the model can make a prediction."
   ]
  },
  {
   "cell_type": "code",
   "execution_count": 1,
   "metadata": {},
   "outputs": [],
   "source": [
    "new_beer = {\n",
    "    'Name': 'HopDevil IPA',\n",
    "    'Style': 'American IPA',\n",
    "    'Brewery': 'Victory Brewing Company',\n",
    "    'Beer Name (Full)': 'Victory Brewing Company HopDevil IPA',\n",
    "    'Description': '''HopDevil IPA is an American IPA crafted by Victory Brewing Company. \n",
    "                     This beer boasts a bold hop character with prominent citrus and floral notes, \n",
    "                     balanced by a sturdy malt backbone. It pours a hazy amber color with a creamy white head. \n",
    "                     With a moderate alcohol content and a refreshing bitterness, \n",
    "                     HopDevil IPA is a favorite among hop enthusiasts.''',\n",
    "    'ABV': 6.7,              \n",
    "    'Min IBU': None,         \n",
    "    'Max IBU': None,         \n",
    "    'Astringency': None,     \n",
    "    'Body': 55,              \n",
    "    'Alcohol': None,         \n",
    "    'Bitter': 70,            \n",
    "    'Sweet': 20,             \n",
    "    'Sour': None,            \n",
    "    'Salty': 0,              \n",
    "    'Fruits': None,          \n",
    "    'Hoppy': 80,             \n",
    "    'Spices': 10,            \n",
    "    'Malty': None,           \n",
    "    'review_aroma': 4.4,     \n",
    "    'review_appearance': 4.3,\n",
    "    'review_palate': None,   \n",
    "    'review_taste': 4.6,     \n",
    "    'review_overall': \"???\", \n",
    "    'number_of_reviews': 2500 \n",
    "}"
   ]
  },
  {
   "cell_type": "markdown",
   "metadata": {},
   "source": [
    "### Problem 3. (25 points)\n",
    "Using your best cross-validated classification model, selected from the pool of trained models(you determine how many and which models to optimize your evaluation metrics), report critical performance metrics such as accuracy and F1-score on both the training and test sets. Once the model demonstrates strong performance, apply it to predict the beer style for a new beer, \"HopDevil IPA,\" using the provided data to check whether it correctly predicts 'American IPA.' Note that the Style column contains 111 unique labels. What potential issues could arise in the prediction model?"
   ]
  },
  {
   "cell_type": "code",
   "execution_count": null,
   "metadata": {},
   "outputs": [],
   "source": []
  },
  {
   "cell_type": "markdown",
   "metadata": {},
   "source": [
    "### Problem 4. (25 points)\n",
    "In Problem 1, you cleaned the data and selected features for regression and classification models. Is it appropriate to use the same features for clustering, or do we need to use (or not use ) other methods to select features for clustering? How would you choose features for the clustering model you are going to make?\n",
    "Research how feature selection is typically done for the clustering models you intend to use. Then, apply that method to select your features and explain your reasoning behind the choice.\n",
    "Once you have selected the appropriate features, build a clustering model using the optimal number of clusters. Based on the cluster labels, provide five new insights about the data. Finally, use your clustering model to predict which cluster the new beer, \"HopDevil IPA,\" falls into."
   ]
  },
  {
   "cell_type": "code",
   "execution_count": null,
   "metadata": {},
   "outputs": [],
   "source": []
  },
  {
   "cell_type": "markdown",
   "metadata": {},
   "source": [
    "### Problem 5. (Bonus = 10 points, Optional)\n",
    "Using the Description column, create two new columns: Polarity and Subjectivity. Polarity measures how positive or negative the sentiment of the description is, and subjectivity reflects how much of the description is opinion-based rather than factual.\n",
    "\n",
    "Now, answer the following questions:\n",
    "\n",
    "* Are there any beers with negative polarity in their descriptions? If so, which ones?\n",
    "* Which beer has the most subjective description, and what does that tell you about how the beer is described?\n",
    "* Do you think it makes sense to include these two columns (Polarity and Subjectivity) in your regression and classification models? Explain why or why not, considering whether sentiment analysis of the descriptions would improve the model’s ability to predict review_overall or beer style."
   ]
  },
  {
   "cell_type": "code",
   "execution_count": null,
   "metadata": {},
   "outputs": [],
   "source": []
  }
 ],
 "metadata": {
  "kernelspec": {
   "display_name": "Python 3 (ipykernel)",
   "language": "python",
   "name": "python3"
  },
  "language_info": {
   "codemirror_mode": {
    "name": "ipython",
    "version": 3
   },
   "file_extension": ".py",
   "mimetype": "text/x-python",
   "name": "python",
   "nbconvert_exporter": "python",
   "pygments_lexer": "ipython3",
   "version": "3.12.6"
  },
  "latex_envs": {
   "LaTeX_envs_menu_present": true,
   "autoclose": false,
   "autocomplete": true,
   "bibliofile": "biblio.bib",
   "cite_by": "apalike",
   "current_citInitial": 1,
   "eqLabelWithNumbers": true,
   "eqNumInitial": 1,
   "hotkeys": {
    "equation": "Ctrl-E",
    "itemize": "Ctrl-I"
   },
   "labels_anchors": false,
   "latex_user_defs": false,
   "report_style_numbering": false,
   "user_envs_cfg": false
  },
  "toc-autonumbering": false,
  "varInspector": {
   "cols": {
    "lenName": 16,
    "lenType": 16,
    "lenVar": 40
   },
   "kernels_config": {
    "python": {
     "delete_cmd_postfix": "",
     "delete_cmd_prefix": "del ",
     "library": "var_list.py",
     "varRefreshCmd": "print(var_dic_list())"
    },
    "r": {
     "delete_cmd_postfix": ") ",
     "delete_cmd_prefix": "rm(",
     "library": "var_list.r",
     "varRefreshCmd": "cat(var_dic_list()) "
    }
   },
   "types_to_exclude": [
    "module",
    "function",
    "builtin_function_or_method",
    "instance",
    "_Feature"
   ],
   "window_display": false
  },
  "widgets": {
   "application/vnd.jupyter.widget-state+json": {
    "state": {},
    "version_major": 2,
    "version_minor": 0
   }
  }
 },
 "nbformat": 4,
 "nbformat_minor": 4
}
